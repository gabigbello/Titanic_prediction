{
 "cells": [
  {
   "cell_type": "code",
   "execution_count": 84,
   "metadata": {},
   "outputs": [],
   "source": [
    "#1. Importing libraries\n",
    "import pandas as pd\n",
    "import numpy as np\n",
    "import statistics as st\n",
    "from matplotlib import pyplot as plt\n",
    "from sklearn.datasets import fetch_openml\n",
    "from sklearn.model_selection import train_test_split\n",
    "from sklearn.preprocessing import StandardScaler\n",
    "from sklearn.neural_network import MLPClassifier\n",
    "from sklearn.metrics import classification_report, confusion_matrix\n",
    "import seaborn as sb"
   ]
  },
  {
   "cell_type": "code",
   "execution_count": null,
   "metadata": {},
   "outputs": [],
   "source": [
    "dataset = pd.read_csv(\"train.csv\",sep=',')\n",
    "dataset.head()"
   ]
  },
  {
   "cell_type": "code",
   "execution_count": null,
   "metadata": {},
   "outputs": [],
   "source": [
    "dataset.describe()"
   ]
  },
  {
   "cell_type": "code",
   "execution_count": null,
   "metadata": {},
   "outputs": [],
   "source": [
    "#2. Cleaning \"train.csv\"\n",
    "\n",
    "#Treating empty values\n",
    "\n",
    "dataset.isnull().sum()\n",
    "\n",
    "#Age column\n",
    "empty = dataset['Age'].isna().sum()\n",
    "median_age = dataset['Age'].median()\n",
    "dataset['Age'] = dataset['Age'].fillna(median_age)\n",
    "dataset.isnull().sum()\n",
    "\n",
    "#Cabin column\n",
    "cabin_grouped = dataset.groupby(dataset['Cabin']).size().sort_values(ascending=False)\n",
    "most_common_values = [\"C23 C25 C27\",\"G6\",\"B96 B98\"] #group of most shown values on the dataset for Cabin\n",
    "dataset['Cabin'] = dataset['Cabin'].fillna(pd.Series(np.random.choice(most_common_values,size=len(dataset.index))))\n",
    "dataset.isnull().sum()\n",
    "\n",
    "#Embarked\n",
    "embarked_grouped = dataset.groupby(dataset['Embarked']).size() #S is the higher \n",
    "dataset['Embarked'] = dataset['Embarked'].fillna(\"S\")\n",
    "dataset.isnull().sum()"
   ]
  },
  {
   "cell_type": "code",
   "execution_count": null,
   "metadata": {},
   "outputs": [],
   "source": [
    "#Checking for duplicated data in id\n",
    "duplicated = dataset.duplicated().sum()"
   ]
  },
  {
   "cell_type": "code",
   "execution_count": null,
   "metadata": {},
   "outputs": [],
   "source": [
    "#Checking for wrong values on columns we have values specified:\n",
    "\n",
    "checking_survived = dataset.groupby(dataset['Survived']).size()\n",
    "checking_survived\n",
    "\n",
    "checking_pclass = dataset.groupby(dataset['Pclass']).size()\n",
    "checking_pclass\n",
    "\n",
    "checking_sex = dataset.groupby(dataset['Sex']).size()\n",
    "checking_sex"
   ]
  },
  {
   "cell_type": "code",
   "execution_count": 129,
   "metadata": {},
   "outputs": [
    {
     "data": {
      "text/plain": [
       "'Not interesting for graphs:\\nName, Ticket, SibSp, Parch, PassengerId\\n'"
      ]
     },
     "execution_count": 129,
     "metadata": {},
     "output_type": "execute_result"
    }
   ],
   "source": [
    "#Creating some graphs to understand our dataset\n",
    "dataset.head()\n",
    "\n",
    "'''Not interesting for graphs:\n",
    "Name, Ticket, SibSp, Parch, PassengerId\n",
    "'''\n",
    "\n",
    "#Graph1: Sex x Survived\n",
    "#Graph2: Ages x Survived\n",
    "#Graph3: Fare x Survived\n",
    "#Graph4: PClass x Survived\n",
    "#Graph5: Cabin x Survived\n",
    "#Graph6: Embarked x Survived"
   ]
  }
 ],
 "metadata": {
  "kernelspec": {
   "display_name": "Python 3",
   "language": "python",
   "name": "python3"
  },
  "language_info": {
   "codemirror_mode": {
    "name": "ipython",
    "version": 3
   },
   "file_extension": ".py",
   "mimetype": "text/x-python",
   "name": "python",
   "nbconvert_exporter": "python",
   "pygments_lexer": "ipython3",
   "version": "3.12.2"
  }
 },
 "nbformat": 4,
 "nbformat_minor": 2
}
